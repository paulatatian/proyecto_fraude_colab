{
  "nbformat": 4,
  "nbformat_minor": 0,
  "metadata": {
    "colab": {
      "provenance": [],
      "authorship_tag": "ABX9TyN9gV8E10Teh3DcdUz8lY1u",
      "include_colab_link": true
    },
    "kernelspec": {
      "name": "python3",
      "display_name": "Python 3"
    },
    "language_info": {
      "name": "python"
    }
  },
  "cells": [
    {
      "cell_type": "markdown",
      "metadata": {
        "id": "view-in-github",
        "colab_type": "text"
      },
      "source": [
        "<a href=\"https://colab.research.google.com/github/paulatatian/JavaScript/blob/main/ml_analysis_colab.ipynb\" target=\"_parent\"><img src=\"https://colab.research.google.com/assets/colab-badge.svg\" alt=\"Open In Colab\"/></a>"
      ]
    },
    {
      "cell_type": "code",
      "execution_count": null,
      "metadata": {
        "id": "lGk19IfZWRo7"
      },
      "outputs": [],
      "source": [
        "# ==============================\n",
        "# 1. Montar Drive y crear estructura\n",
        "# ==============================\n",
        "from google.colab import drive\n",
        "import os\n",
        "\n",
        "# Montar Google Drive\n",
        "drive.mount('/content/drive')\n",
        "\n",
        "# Definir ruta base\n",
        "base_path = '/content/drive/MyDrive/proyecto_fraude'\n",
        "\n",
        "# Estructura completa requerida\n",
        "folders = [\n",
        "    f'{base_path}/notebooks',\n",
        "    f'{base_path}/data/raw',\n",
        "    f'{base_path}/data/processed',\n",
        "    f'{base_path}/results/visualizations',\n",
        "    f'{base_path}/results/models',\n",
        "    f'{base_path}/results/reports',\n",
        "    f'{base_path}/docs',\n",
        "    f'{base_path}/video'\n",
        "]\n",
        "\n",
        "files = {\n",
        "    f'{base_path}/README.md': \"# Proyecto: Análisis de Datos Financieros\\n\\nDocumentación principal.\",\n",
        "    f'{base_path}/data/data_dictionary.md': \"# Diccionario de Datos\\n\\nDescribe las variables del dataset creditcard.csv.\",\n",
        "    f'{base_path}/docs/methodology.md': \"# Metodología\\n\\nExplicación paso a paso del proceso de análisis.\",\n",
        "    f'{base_path}/docs/conclusions.md': \"# Conclusiones\\n\\nResumen de los hallazgos y recomendaciones finales.\"\n",
        "}\n",
        "\n",
        "# Crear carpetas\n",
        "for folder in folders:\n",
        "    os.makedirs(folder, exist_ok=True)\n",
        "\n",
        "# Crear archivos\n",
        "for file_path, content in files.items():\n",
        "    with open(file_path, 'w', encoding='utf-8') as f:\n",
        "        f.write(content)\n",
        "\n",
        "# Crear archivo de video vacío (solo marcador)\n",
        "open(f'{base_path}/video/presentation.mp4', 'a').close()\n",
        "\n",
        "print(\"✅ Estructura completa creada con éxito.\\n\")\n",
        "for folder in folders:\n",
        "    print(folder)"
      ]
    },
    {
      "cell_type": "code",
      "source": [
        "# ==============================\n",
        "# 2. Cargar librerías necesarias\n",
        "# ==============================\n",
        "!pip install -q imbalanced-learn xgboost seaborn plotly\n",
        "\n",
        "import pandas as pd\n",
        "import numpy as np\n",
        "import matplotlib.pyplot as plt\n",
        "import seaborn as sns\n",
        "from sklearn.model_selection import train_test_split\n",
        "from sklearn.preprocessing import StandardScaler\n",
        "from sklearn.linear_model import LogisticRegression\n",
        "from sklearn.ensemble import RandomForestClassifier\n",
        "from sklearn.metrics import classification_report, roc_auc_score, ConfusionMatrixDisplay, RocCurveDisplay\n",
        "from sklearn.compose import ColumnTransformer\n",
        "from imblearn.over_sampling import SMOTE\n",
        "import joblib"
      ],
      "metadata": {
        "id": "WKu9ERL-Z5c5"
      },
      "execution_count": null,
      "outputs": []
    },
    {
      "cell_type": "code",
      "source": [
        "# ==============================\n",
        "# 3. Cargar dataset\n",
        "# ==============================\n",
        "data_path = f'{base_path}/data/raw/creditcard.csv'\n",
        "df = pd.read_csv(data_path)\n",
        "print(\"Filas y columnas:\", df.shape)\n",
        "df.head()"
      ],
      "metadata": {
        "id": "CXsTmFzlZ8pc"
      },
      "execution_count": null,
      "outputs": []
    },
    {
      "cell_type": "code",
      "source": [
        "# ==============================\n",
        "# 4. Exploración inicial\n",
        "# ==============================\n",
        "df.info()\n",
        "df.describe().T\n",
        "print(\"Nulos:\", df.isnull().sum().sum())\n",
        "print(\"Duplicados:\", df.duplicated().sum())"
      ],
      "metadata": {
        "id": "n8ssEAK0Z_Ik"
      },
      "execution_count": null,
      "outputs": []
    },
    {
      "cell_type": "code",
      "source": [
        "# ==============================\n",
        "# 5. Visualizaciones (EDA)\n",
        "# ==============================\n",
        "plt.figure(figsize=(5,4))\n",
        "sns.countplot(x='Class', data=df)\n",
        "plt.title('Distribución de clases (0=Normal, 1=Fraude)')\n",
        "plt.show()\n",
        "\n",
        "print(\"Porcentaje de fraude:\", df['Class'].value_counts(normalize=True)[1]*100, \"%\")\n",
        "\n",
        "# Distribución del monto\n",
        "plt.figure(figsize=(10,4))\n",
        "plt.subplot(1,2,1)\n",
        "sns.histplot(df['Amount'], bins=50, log_scale=True)\n",
        "plt.title('Distribución de Amount (escala log)')\n",
        "plt.subplot(1,2,2)\n",
        "sns.boxplot(x='Class', y='Amount', data=df)\n",
        "plt.title('Amount por clase')\n",
        "plt.tight_layout()\n",
        "plt.show()\n",
        "\n",
        "# Correlación\n",
        "plt.figure(figsize=(12,10))\n",
        "sns.heatmap(df.corr(), cmap='coolwarm', vmax=0.6, vmin=-0.6)\n",
        "plt.title('Matriz de correlación')\n",
        "plt.show()\n"
      ],
      "metadata": {
        "id": "7W3lJ2hpaCvA"
      },
      "execution_count": null,
      "outputs": []
    },
    {
      "cell_type": "code",
      "source": [
        "# ==============================\n",
        "# 6. Preprocesamiento (optimizado)\n",
        "# ==============================\n",
        "X = df.drop('Class', axis=1)\n",
        "y = df['Class']\n",
        "\n",
        "# Columnas a escalar\n",
        "num_features = ['Amount', 'Time']\n",
        "\n",
        "# Preprocesador\n",
        "preprocessor = ColumnTransformer(\n",
        "    transformers=[\n",
        "        ('scaler', StandardScaler(), num_features)\n",
        "    ],\n",
        "    remainder='passthrough'  # Mantiene el resto de columnas sin cambios\n",
        ")\n",
        "\n",
        "# Aplicar escalado\n",
        "X_scaled = preprocessor.fit_transform(X)\n",
        "\n",
        "# Convertir a DataFrame conservando nombres de columnas\n",
        "X_scaled = pd.DataFrame(X_scaled, columns=num_features + [c for c in X.columns if c not in num_features])\n",
        "\n",
        "# Dividir datos\n",
        "X_train, X_test, y_train, y_test = train_test_split(\n",
        "    X_scaled, y, test_size=0.2, stratify=y, random_state=42\n",
        ")\n",
        "print(\"Datos de entrenamiento:\", X_train.shape, \"y prueba:\", X_test.shape)\n"
      ],
      "metadata": {
        "id": "ZL5_RR8qaHKA"
      },
      "execution_count": null,
      "outputs": []
    },
    {
      "cell_type": "code",
      "source": [
        "# ==============================\n",
        "# 7. Balanceo de clases (SMOTE)\n",
        "# ==============================\n",
        "sm = SMOTE(random_state=42)\n",
        "X_train_res, y_train_res = sm.fit_resample(X_train, y_train)\n",
        "print(\"Antes del balanceo:\", y_train.value_counts())\n",
        "print(\"Después del balanceo:\", y_train_res.value_counts())\n"
      ],
      "metadata": {
        "id": "bq_9FZ0GaMjd"
      },
      "execution_count": null,
      "outputs": []
    },
    {
      "cell_type": "code",
      "source": [
        "# ==============================\n",
        "# 8. Modelos optimizados (rápida ejecución)\n",
        "# ==============================\n",
        "print(\"Entrenando modelos, esto tardará menos de 2 minutos...\")\n",
        "\n",
        "# Logistic Regression\n",
        "lr = LogisticRegression(\n",
        "    max_iter=800,\n",
        "    class_weight='balanced',\n",
        "    solver='lbfgs',\n",
        "    random_state=42\n",
        ")\n",
        "lr.fit(X_train, y_train)\n",
        "y_pred_lr = lr.predict(X_test)\n",
        "y_proba_lr = lr.predict_proba(X_test)[:, 1]\n",
        "\n",
        "print(\"\\n=== Logistic Regression ===\")\n",
        "print(\"ROC AUC:\", round(roc_auc_score(y_test, y_proba_lr), 4))\n",
        "print(classification_report(y_test, y_pred_lr, digits=4))\n",
        "\n",
        "# Random Forest\n",
        "rf = RandomForestClassifier(\n",
        "    n_estimators=50,\n",
        "    max_depth=10,\n",
        "    class_weight='balanced',\n",
        "    random_state=42,\n",
        "    n_jobs=-1\n",
        ")\n",
        "rf.fit(X_train, y_train)\n",
        "y_pred_rf = rf.predict(X_test)\n",
        "y_proba_rf = rf.predict_proba(X_test)[:, 1]\n",
        "\n",
        "print(\"\\n=== Random Forest (optimizado) ===\")\n",
        "print(\"ROC AUC:\", round(roc_auc_score(y_test, y_proba_rf), 4))\n",
        "print(classification_report(y_test, y_pred_rf, digits=4))\n",
        "\n",
        "# Matriz de confusión\n",
        "fig_cm = f'{base_path}/results/visualizations/confusion_matrix.png'\n",
        "ConfusionMatrixDisplay.from_predictions(y_test, y_pred_rf, cmap='Blues')\n",
        "plt.title('Matriz de confusión - Random Forest')\n",
        "plt.savefig(fig_cm, dpi=200)\n",
        "plt.show()\n",
        "\n",
        "# Curva ROC comparativa\n",
        "plt.figure(figsize=(6,5))\n",
        "RocCurveDisplay.from_estimator(lr, X_test, y_test, name='Logistic Regression')\n",
        "RocCurveDisplay.from_estimator(rf, X_test, y_test, name='Random Forest', color='darkorange')\n",
        "plt.title('Curva ROC comparativa')\n",
        "plt.show()\n",
        "\n",
        "print(\"✅ Modelos entrenados y evaluados correctamente.\")"
      ],
      "metadata": {
        "id": "OWKbOgLYaPCp"
      },
      "execution_count": null,
      "outputs": []
    },
    {
      "cell_type": "code",
      "source": [
        "# ==============================\n",
        "# 9. Importancia de variables\n",
        "# ==============================\n",
        "feat_imp = pd.Series(rf.feature_importances_, index=X_scaled.columns).sort_values(ascending=False)\n",
        "plt.figure(figsize=(8,5))\n",
        "feat_imp.head(10).plot(kind='barh')\n",
        "plt.title('Top 10 variables más importantes')\n",
        "plt.tight_layout()\n",
        "plt.show()"
      ],
      "metadata": {
        "id": "WGKL_sxfaSzz"
      },
      "execution_count": null,
      "outputs": []
    },
    {
      "cell_type": "code",
      "source": [
        "# ==============================\n",
        "# 10. Guardar modelo\n",
        "# ==============================\n",
        "model_path = f'{base_path}/results/models/random_forest.joblib'\n",
        "joblib.dump(rf, model_path)\n",
        "print(f\"Modelo guardado en: {model_path}\")"
      ],
      "metadata": {
        "id": "DDoX-ae7aU5w"
      },
      "execution_count": null,
      "outputs": []
    },
    {
      "cell_type": "code",
      "source": [
        "!git clone https://github.com/paulatatian/Machine-Learning-usando-Google-Colab-SaaS-.git\n"
      ],
      "metadata": {
        "colab": {
          "base_uri": "https://localhost:8080/"
        },
        "id": "ovwsZ0TvfcRU",
        "outputId": "7e142413-c6ee-4940-cdbf-40390010340c"
      },
      "execution_count": 1,
      "outputs": [
        {
          "output_type": "stream",
          "name": "stdout",
          "text": [
            "Cloning into 'Machine-Learning-usando-Google-Colab-SaaS-'...\n",
            "remote: Enumerating objects: 6, done.\u001b[K\n",
            "remote: Counting objects: 100% (6/6), done.\u001b[K\n",
            "remote: Compressing objects: 100% (5/5), done.\u001b[K\n",
            "remote: Total 6 (delta 1), reused 0 (delta 0), pack-reused 0 (from 0)\u001b[K\n",
            "Receiving objects: 100% (6/6), 170.49 KiB | 1.54 MiB/s, done.\n",
            "Resolving deltas: 100% (1/1), done.\n"
          ]
        }
      ]
    }
  ]
}